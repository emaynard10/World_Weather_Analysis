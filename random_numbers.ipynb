{
 "cells": [
  {
   "cell_type": "code",
   "execution_count": 1,
   "id": "196f12e2",
   "metadata": {},
   "outputs": [],
   "source": [
    "import random"
   ]
  },
  {
   "cell_type": "code",
   "execution_count": 2,
   "id": "253b8b29",
   "metadata": {},
   "outputs": [
    {
     "data": {
      "text/plain": [
       "51"
      ]
     },
     "execution_count": 2,
     "metadata": {},
     "output_type": "execute_result"
    }
   ],
   "source": [
    "random.randint(-90,90)"
   ]
  },
  {
   "cell_type": "code",
   "execution_count": 3,
   "id": "2806427a",
   "metadata": {},
   "outputs": [
    {
     "data": {
      "text/plain": [
       "0.9879847582136551"
      ]
     },
     "execution_count": 3,
     "metadata": {},
     "output_type": "execute_result"
    }
   ],
   "source": [
    "random.random()"
   ]
  },
  {
   "cell_type": "code",
   "execution_count": 5,
   "id": "367e4573",
   "metadata": {},
   "outputs": [
    {
     "data": {
      "text/plain": [
       "[-75.77275453928063,\n",
       " -68.40671897169675,\n",
       " 38.28348288547412,\n",
       " 58.84881421728176,\n",
       " 5.927428321004296,\n",
       " -25.691947055679094,\n",
       " 25.551928265091803,\n",
       " 85.38254403988645,\n",
       " -20.480662380081277,\n",
       " 66.63433933894707]"
      ]
     },
     "execution_count": 5,
     "metadata": {},
     "output_type": "execute_result"
    }
   ],
   "source": [
    "x = 1\n",
    "latitudes = []\n",
    "while x < 11:\n",
    "    random_lat = random.randint(-90, 89) + random.random()\n",
    "    latitudes.append(random_lat)\n",
    "    x += 1\n",
    "latitudes"
   ]
  },
  {
   "cell_type": "code",
   "execution_count": 6,
   "id": "e0e8851e",
   "metadata": {},
   "outputs": [
    {
     "data": {
      "text/plain": [
       "-33"
      ]
     },
     "execution_count": 6,
     "metadata": {},
     "output_type": "execute_result"
    }
   ],
   "source": [
    "random.randrange(-90, 90, step=3)"
   ]
  },
  {
   "cell_type": "code",
   "execution_count": 7,
   "id": "bf673431",
   "metadata": {},
   "outputs": [
    {
     "data": {
      "text/plain": [
       "46.884321506156056"
      ]
     },
     "execution_count": 7,
     "metadata": {},
     "output_type": "execute_result"
    }
   ],
   "source": [
    "random.uniform(-90, 90)"
   ]
  },
  {
   "cell_type": "code",
   "execution_count": 8,
   "id": "2afa4285",
   "metadata": {},
   "outputs": [],
   "source": [
    "# Import the NumPy module.\n",
    "import numpy as np"
   ]
  },
  {
   "cell_type": "code",
   "execution_count": 9,
   "id": "47e985e5",
   "metadata": {},
   "outputs": [
    {
     "data": {
      "text/plain": [
       "49.855381755349356"
      ]
     },
     "execution_count": 9,
     "metadata": {},
     "output_type": "execute_result"
    }
   ],
   "source": [
    "np.random.uniform(-90.000, 90.000)\n",
    "np.random.uniform(low=-90, high=90)"
   ]
  },
  {
   "cell_type": "code",
   "execution_count": 10,
   "id": "c0c2abb2",
   "metadata": {},
   "outputs": [
    {
     "data": {
      "text/plain": [
       "array([-61.75814951, -39.052916  ,  58.24434106, -23.58059335,\n",
       "        -9.56939035, -73.41954766, -85.02721902, -20.46381019,\n",
       "       -37.55475315,  -0.31188734, -89.15250899, -84.59892655,\n",
       "         1.48941326, -34.37285274,   9.80812287, -24.48074716,\n",
       "       -32.56412845,  61.39388958, -89.4265023 ,  30.17226434,\n",
       "        19.11703639, -81.10075717,  59.51085819,  86.6542207 ,\n",
       "        66.24110917,  11.798834  , -45.64814658, -32.16262153,\n",
       "       -72.07285225, -57.18347944,  15.6802737 ,  53.40322183,\n",
       "       -10.98572902,  -0.96747779, -46.59587262, -67.88076548,\n",
       "        31.97684904,  39.75240087,  72.30462046,  20.60587052,\n",
       "        85.02916238, -11.55358707,   6.52138076, -77.74262282,\n",
       "        69.1473484 ,  67.55114035, -77.95305181, -84.52187384,\n",
       "        40.51748388, -68.62303486])"
      ]
     },
     "execution_count": 10,
     "metadata": {},
     "output_type": "execute_result"
    }
   ],
   "source": [
    "np.random.uniform(-90.000, 90.000, size=50)"
   ]
  },
  {
   "cell_type": "code",
   "execution_count": 11,
   "id": "0534b425",
   "metadata": {},
   "outputs": [],
   "source": [
    "# Import timeit.\n",
    "import timeit\n"
   ]
  },
  {
   "cell_type": "code",
   "execution_count": 12,
   "id": "fe29a05d",
   "metadata": {},
   "outputs": [
    {
     "name": "stdout",
     "output_type": "stream",
     "text": [
      "23.1 µs ± 2.33 µs per loop (mean ± std. dev. of 7 runs, 10000 loops each)\n"
     ]
    }
   ],
   "source": [
    "%timeit np.random.uniform(-90.000, 90.000, size=1500)"
   ]
  },
  {
   "cell_type": "code",
   "execution_count": 13,
   "id": "581e1fb9",
   "metadata": {},
   "outputs": [
    {
     "name": "stdout",
     "output_type": "stream",
     "text": [
      "3.13 ms ± 166 µs per loop (mean ± std. dev. of 7 runs, 100 loops each)\n"
     ]
    }
   ],
   "source": [
    "def latitudes(size):\n",
    "    latitudes = []\n",
    "    x = 0\n",
    "    while x < (size):\n",
    "        random_lat = random.randint(-90, 90) + random.random()\n",
    "        latitudes.append(random_lat)\n",
    "        x += 1\n",
    "    return latitudes\n",
    "# Call the function with 1500.\n",
    "%timeit latitudes(1500)"
   ]
  },
  {
   "cell_type": "code",
   "execution_count": null,
   "id": "3fac0492",
   "metadata": {},
   "outputs": [],
   "source": []
  }
 ],
 "metadata": {
  "kernelspec": {
   "display_name": "PythonData",
   "language": "python",
   "name": "pythondata"
  },
  "language_info": {
   "codemirror_mode": {
    "name": "ipython",
    "version": 3
   },
   "file_extension": ".py",
   "mimetype": "text/x-python",
   "name": "python",
   "nbconvert_exporter": "python",
   "pygments_lexer": "ipython3",
   "version": "3.7.11"
  }
 },
 "nbformat": 4,
 "nbformat_minor": 5
}
